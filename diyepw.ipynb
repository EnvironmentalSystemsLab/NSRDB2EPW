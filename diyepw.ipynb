{
 "cells": [
  {
   "cell_type": "code",
   "execution_count": 1,
   "id": "4189cf74",
   "metadata": {},
   "outputs": [
    {
     "name": "stdout",
     "output_type": "stream",
     "text": [
      "Collecting diyepw\n",
      "  Using cached diyepw-1.2.4-py3-none-any.whl.metadata (13 kB)\n",
      "Collecting click~=8.0.1 (from diyepw)\n",
      "  Using cached click-8.0.4-py3-none-any.whl.metadata (3.2 kB)\n",
      "Collecting numpy~=1.21.2 (from diyepw)\n",
      "  Downloading numpy-1.21.6-cp38-cp38-win_amd64.whl.metadata (2.2 kB)\n",
      "Collecting pandas~=1.3.2 (from diyepw)\n",
      "  Downloading pandas-1.3.5-cp38-cp38-win_amd64.whl.metadata (12 kB)\n",
      "Collecting pvlib~=0.8.1 (from diyepw)\n",
      "  Downloading pvlib-0.8.1-py3-none-any.whl.metadata (4.2 kB)\n",
      "Collecting xarray~=0.19.0 (from diyepw)\n",
      "  Downloading xarray-0.19.0-py3-none-any.whl.metadata (6.1 kB)\n",
      "Requirement already satisfied: colorama in e:\\coding\\nsrdb2epw\\.conda\\lib\\site-packages (from click~=8.0.1->diyepw) (0.4.6)\n",
      "Requirement already satisfied: python-dateutil>=2.7.3 in e:\\coding\\nsrdb2epw\\.conda\\lib\\site-packages (from pandas~=1.3.2->diyepw) (2.9.0)\n",
      "Collecting pytz>=2017.3 (from pandas~=1.3.2->diyepw)\n",
      "  Downloading pytz-2025.2-py2.py3-none-any.whl.metadata (22 kB)\n",
      "Collecting requests (from pvlib~=0.8.1->diyepw)\n",
      "  Using cached requests-2.32.3-py3-none-any.whl.metadata (4.6 kB)\n",
      "Collecting scipy>=1.2.0 (from pvlib~=0.8.1->diyepw)\n",
      "  Downloading scipy-1.10.1-cp38-cp38-win_amd64.whl.metadata (58 kB)\n",
      "Requirement already satisfied: setuptools>=40.4 in e:\\coding\\nsrdb2epw\\.conda\\lib\\site-packages (from xarray~=0.19.0->diyepw) (75.1.0)\n",
      "Requirement already satisfied: six>=1.5 in e:\\coding\\nsrdb2epw\\.conda\\lib\\site-packages (from python-dateutil>=2.7.3->pandas~=1.3.2->diyepw) (1.16.0)\n",
      "Collecting charset-normalizer<4,>=2 (from requests->pvlib~=0.8.1->diyepw)\n",
      "  Downloading charset_normalizer-3.4.1-cp38-cp38-win_amd64.whl.metadata (36 kB)\n",
      "Collecting idna<4,>=2.5 (from requests->pvlib~=0.8.1->diyepw)\n",
      "  Downloading idna-3.10-py3-none-any.whl.metadata (10 kB)\n",
      "Collecting urllib3<3,>=1.21.1 (from requests->pvlib~=0.8.1->diyepw)\n",
      "  Downloading urllib3-2.2.3-py3-none-any.whl.metadata (6.5 kB)\n",
      "Collecting certifi>=2017.4.17 (from requests->pvlib~=0.8.1->diyepw)\n",
      "  Downloading certifi-2025.1.31-py3-none-any.whl.metadata (2.5 kB)\n",
      "Downloading diyepw-1.2.4-py3-none-any.whl (5.6 MB)\n",
      "   ---------------------------------------- 0.0/5.6 MB ? eta -:--:--\n",
      "   -------------------------- ------------- 3.7/5.6 MB 18.2 MB/s eta 0:00:01\n",
      "   ---------------------------------------- 5.6/5.6 MB 16.4 MB/s eta 0:00:00\n",
      "Downloading click-8.0.4-py3-none-any.whl (97 kB)\n",
      "Downloading numpy-1.21.6-cp38-cp38-win_amd64.whl (14.0 MB)\n",
      "   ---------------------------------------- 0.0/14.0 MB ? eta -:--:--\n",
      "   --- ------------------------------------ 1.3/14.0 MB 22.3 MB/s eta 0:00:01\n",
      "   ---- ----------------------------------- 1.6/14.0 MB 3.4 MB/s eta 0:00:04\n",
      "   ------------ --------------------------- 4.5/14.0 MB 7.1 MB/s eta 0:00:02\n",
      "   -------------------- ------------------- 7.3/14.0 MB 8.7 MB/s eta 0:00:01\n",
      "   -------------------------- ------------- 9.4/14.0 MB 8.9 MB/s eta 0:00:01\n",
      "   ----------------------------- ---------- 10.2/14.0 MB 9.2 MB/s eta 0:00:01\n",
      "   --------------------------------- ------ 11.8/14.0 MB 7.9 MB/s eta 0:00:01\n",
      "   ---------------------------------------- 14.0/14.0 MB 8.4 MB/s eta 0:00:00\n",
      "Downloading pandas-1.3.5-cp38-cp38-win_amd64.whl (10.2 MB)\n",
      "   ---------------------------------------- 0.0/10.2 MB ? eta -:--:--\n",
      "   ------ --------------------------------- 1.6/10.2 MB 16.8 MB/s eta 0:00:01\n",
      "   ------ --------------------------------- 1.6/10.2 MB 16.8 MB/s eta 0:00:01\n",
      "   ------ --------------------------------- 1.6/10.2 MB 16.8 MB/s eta 0:00:01\n",
      "   ------ --------------------------------- 1.6/10.2 MB 16.8 MB/s eta 0:00:01\n",
      "   ------- -------------------------------- 1.8/10.2 MB 1.6 MB/s eta 0:00:06\n",
      "   --------- ------------------------------ 2.4/10.2 MB 1.7 MB/s eta 0:00:05\n",
      "   ------------- -------------------------- 3.4/10.2 MB 2.2 MB/s eta 0:00:04\n",
      "   ------------------ --------------------- 4.7/10.2 MB 2.8 MB/s eta 0:00:02\n",
      "   ----------------------- ---------------- 6.0/10.2 MB 3.2 MB/s eta 0:00:02\n",
      "   ------------------------------ --------- 7.9/10.2 MB 3.7 MB/s eta 0:00:01\n",
      "   ------------------------------------- -- 9.4/10.2 MB 4.1 MB/s eta 0:00:01\n",
      "   ------------------------------------- -- 9.4/10.2 MB 4.1 MB/s eta 0:00:01\n",
      "   ---------------------------------------- 10.2/10.2 MB 3.7 MB/s eta 0:00:00\n",
      "Downloading pvlib-0.8.1-py3-none-any.whl (22.4 MB)\n",
      "   ---------------------------------------- 0.0/22.4 MB ? eta -:--:--\n",
      "   --- ------------------------------------ 2.1/22.4 MB 10.7 MB/s eta 0:00:02\n",
      "   ------- -------------------------------- 4.2/22.4 MB 10.5 MB/s eta 0:00:02\n",
      "   ------------ --------------------------- 7.1/22.4 MB 11.8 MB/s eta 0:00:02\n",
      "   ------------ --------------------------- 7.1/22.4 MB 11.8 MB/s eta 0:00:02\n",
      "   --------------- ------------------------ 8.7/22.4 MB 8.3 MB/s eta 0:00:02\n",
      "   --------------------- ------------------ 11.8/22.4 MB 9.6 MB/s eta 0:00:02\n",
      "   ---------------------- ----------------- 12.6/22.4 MB 9.7 MB/s eta 0:00:02\n",
      "   ---------------------- ----------------- 12.6/22.4 MB 9.7 MB/s eta 0:00:02\n",
      "   ---------------------- ----------------- 12.6/22.4 MB 9.7 MB/s eta 0:00:02\n",
      "   ---------------------- ----------------- 12.6/22.4 MB 9.7 MB/s eta 0:00:02\n",
      "   -------------------------- ------------- 14.9/22.4 MB 6.5 MB/s eta 0:00:02\n",
      "   ------------------------------- -------- 17.8/22.4 MB 7.2 MB/s eta 0:00:01\n",
      "   -------------------------------------- - 21.5/22.4 MB 7.9 MB/s eta 0:00:01\n",
      "   ---------------------------------------- 22.4/22.4 MB 7.9 MB/s eta 0:00:00\n",
      "Downloading xarray-0.19.0-py3-none-any.whl (827 kB)\n",
      "   ---------------------------------------- 0.0/827.5 kB ? eta -:--:--\n",
      "   --------------------------------------- 827.5/827.5 kB 12.0 MB/s eta 0:00:00\n",
      "Downloading pytz-2025.2-py2.py3-none-any.whl (509 kB)\n",
      "Downloading scipy-1.10.1-cp38-cp38-win_amd64.whl (42.2 MB)\n",
      "   ---------------------------------------- 0.0/42.2 MB ? eta -:--:--\n",
      "   -- ------------------------------------- 2.6/42.2 MB 18.9 MB/s eta 0:00:03\n",
      "   -- ------------------------------------- 2.6/42.2 MB 18.9 MB/s eta 0:00:03\n",
      "   -- ------------------------------------- 2.6/42.2 MB 18.9 MB/s eta 0:00:03\n",
      "   -- ------------------------------------- 2.6/42.2 MB 18.9 MB/s eta 0:00:03\n",
      "   ---- ----------------------------------- 4.7/42.2 MB 4.4 MB/s eta 0:00:09\n",
      "   ------ --------------------------------- 7.3/42.2 MB 5.8 MB/s eta 0:00:07\n",
      "   ------- -------------------------------- 7.9/42.2 MB 6.0 MB/s eta 0:00:06\n",
      "   ------- -------------------------------- 7.9/42.2 MB 6.0 MB/s eta 0:00:06\n",
      "   ------- -------------------------------- 8.1/42.2 MB 4.2 MB/s eta 0:00:09\n",
      "   --------- ------------------------------ 10.5/42.2 MB 5.0 MB/s eta 0:00:07\n",
      "   ---------- ----------------------------- 11.3/42.2 MB 5.2 MB/s eta 0:00:06\n",
      "   ---------- ----------------------------- 11.3/42.2 MB 5.2 MB/s eta 0:00:06\n",
      "   ---------- ----------------------------- 11.3/42.2 MB 5.2 MB/s eta 0:00:06\n",
      "   ---------- ----------------------------- 11.3/42.2 MB 5.2 MB/s eta 0:00:06\n",
      "   ---------- ----------------------------- 11.3/42.2 MB 5.2 MB/s eta 0:00:06\n",
      "   ---------- ----------------------------- 11.3/42.2 MB 5.2 MB/s eta 0:00:06\n",
      "   ---------- ----------------------------- 11.3/42.2 MB 5.2 MB/s eta 0:00:06\n",
      "   ---------- ----------------------------- 11.3/42.2 MB 5.2 MB/s eta 0:00:06\n",
      "   ---------- ----------------------------- 11.5/42.2 MB 3.0 MB/s eta 0:00:11\n",
      "   ----------- ---------------------------- 12.1/42.2 MB 2.8 MB/s eta 0:00:11\n",
      "   ------------ --------------------------- 13.1/42.2 MB 2.9 MB/s eta 0:00:10\n",
      "   ------------- -------------------------- 14.7/42.2 MB 3.2 MB/s eta 0:00:09\n",
      "   ---------------- ----------------------- 17.0/42.2 MB 3.5 MB/s eta 0:00:08\n",
      "   ------------------ --------------------- 19.7/42.2 MB 3.9 MB/s eta 0:00:06\n",
      "   --------------------- ------------------ 22.3/42.2 MB 4.2 MB/s eta 0:00:05\n",
      "   ----------------------- ---------------- 24.6/42.2 MB 4.5 MB/s eta 0:00:04\n",
      "   -------------------------- ------------- 27.5/42.2 MB 4.9 MB/s eta 0:00:04\n",
      "   ---------------------------- ----------- 30.1/42.2 MB 5.1 MB/s eta 0:00:03\n",
      "   ------------------------------- -------- 32.8/42.2 MB 5.4 MB/s eta 0:00:02\n",
      "   ---------------------------------- ----- 35.9/42.2 MB 5.7 MB/s eta 0:00:02\n",
      "   ------------------------------------ --- 38.5/42.2 MB 5.9 MB/s eta 0:00:01\n",
      "   ------------------------------------- -- 39.6/42.2 MB 6.0 MB/s eta 0:00:01\n",
      "   ------------------------------------- -- 39.6/42.2 MB 6.0 MB/s eta 0:00:01\n",
      "   ---------------------------------------  42.2/42.2 MB 6.0 MB/s eta 0:00:01\n",
      "   ---------------------------------------- 42.2/42.2 MB 5.9 MB/s eta 0:00:00\n",
      "Using cached requests-2.32.3-py3-none-any.whl (64 kB)\n",
      "Downloading certifi-2025.1.31-py3-none-any.whl (166 kB)\n",
      "Downloading charset_normalizer-3.4.1-cp38-cp38-win_amd64.whl (102 kB)\n",
      "Downloading idna-3.10-py3-none-any.whl (70 kB)\n",
      "Downloading urllib3-2.2.3-py3-none-any.whl (126 kB)\n",
      "Installing collected packages: pytz, urllib3, numpy, idna, click, charset-normalizer, certifi, scipy, requests, pandas, xarray, pvlib, diyepw\n",
      "Successfully installed certifi-2025.1.31 charset-normalizer-3.4.1 click-8.0.4 diyepw-1.2.4 idna-3.10 numpy-1.21.6 pandas-1.3.5 pvlib-0.8.1 pytz-2025.2 requests-2.32.3 scipy-1.10.1 urllib3-2.2.3 xarray-0.19.0\n",
      "Note: you may need to restart the kernel to use updated packages.\n"
     ]
    }
   ],
   "source": [
    "pip install diyepw"
   ]
  },
  {
   "cell_type": "markdown",
   "id": "bdaec00c",
   "metadata": {},
   "source": [
    "get weather station id (first 7 digits): https://www.ncei.noaa.gov/products/land-based-station/integrated-surface-database"
   ]
  },
  {
   "cell_type": "markdown",
   "id": "054bedf1",
   "metadata": {},
   "source": [
    "Using `diyepw`\n",
    "\n",
    "https://diyepw.readthedocs.io/en/latest/tutorial.html"
   ]
  },
  {
   "cell_type": "code",
   "execution_count": 5,
   "id": "7c7285dd",
   "metadata": {},
   "outputs": [
    {
     "name": "stdout",
     "output_type": "stream",
     "text": [
      "2025-04-14 16:45:14,562 Creating AMY EPW for year 2024 and WMO 725155...\n",
      "2025-04-14 16:45:14,562 No amy_dir was specified - downloaded AMY files will be stored in the default location at e:\\Coding\\NSRDB2EPW\\.conda\\lib\\site-packages\\diyepw\\data\\noaa_isd_lite_files\n",
      "2025-04-14 16:45:14,603 TMY EPW file (e:\\Coding\\NSRDB2EPW\\.conda\\lib\\site-packages\\diyepw\\data\\tmy_epw_files\\USA_NY_Ithaca.Tompkins.Rgnl.AP.725155_TMYx.epw) already exists, won't download again.\n",
      "2025-04-14 16:45:14,621 2024 is a leap year, using the interpolation strategy to populate TMY data for Feb. 29\n"
     ]
    },
    {
     "data": {
      "text/plain": [
       "{2024: {725155: ['./results/USA_NY_Ithaca.Tompkins.Rgnl.AP.725155_AMY_2024.epw']}}"
      ]
     },
     "execution_count": 5,
     "metadata": {},
     "output_type": "execute_result"
    }
   ],
   "source": [
    "import diyepw\n",
    "diyepw.create_amy_epw_files_for_years_and_wmos(\n",
    "  [2024],\n",
    "  [725155],\n",
    "  max_records_to_interpolate=6,\n",
    "  max_records_to_impute=999,\n",
    "  max_missing_amy_rows=999,\n",
    "  allow_downloads=True,\n",
    "  amy_epw_dir='./results/'\n",
    ")"
   ]
  },
  {
   "cell_type": "code",
   "execution_count": 1,
   "id": "d3254c33",
   "metadata": {},
   "outputs": [],
   "source": [
    "from epw import epw"
   ]
  },
  {
   "cell_type": "code",
   "execution_count": 3,
   "id": "41551c11",
   "metadata": {},
   "outputs": [],
   "source": [
    "wea = epw()"
   ]
  },
  {
   "cell_type": "code",
   "execution_count": 4,
   "id": "6ed6f538",
   "metadata": {},
   "outputs": [],
   "source": [
    "wea.read('results/USA_NY_Ithaca.Tompkins.Rgnl.AP.725155_AMY_2024.epw')"
   ]
  },
  {
   "cell_type": "code",
   "execution_count": 10,
   "id": "b32688ba",
   "metadata": {},
   "outputs": [],
   "source": [
    "wea.dataframe.to_csv('ithaca_2024_wea.csv', index=False)"
   ]
  }
 ],
 "metadata": {
  "kernelspec": {
   "display_name": "Python 3",
   "language": "python",
   "name": "python3"
  },
  "language_info": {
   "codemirror_mode": {
    "name": "ipython",
    "version": 3
   },
   "file_extension": ".py",
   "mimetype": "text/x-python",
   "name": "python",
   "nbconvert_exporter": "python",
   "pygments_lexer": "ipython3",
   "version": "3.8.20"
  }
 },
 "nbformat": 4,
 "nbformat_minor": 5
}

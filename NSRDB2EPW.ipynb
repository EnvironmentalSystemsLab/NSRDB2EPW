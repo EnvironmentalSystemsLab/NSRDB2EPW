{
 "cells": [
  {
   "cell_type": "markdown",
   "id": "5a590fd6-ea5f-429a-b9da-2d7e4586038b",
   "metadata": {},
   "source": [
    "# NSRDB to EPW Pipeline"
   ]
  },
  {
   "cell_type": "markdown",
   "id": "582b098e-a004-4ad7-ab5d-41666db9e5b0",
   "metadata": {},
   "source": [
    "## Introduction"
   ]
  },
  {
   "cell_type": "markdown",
   "id": "34615c31-aa42-4301-976a-a086e8128669",
   "metadata": {},
   "source": [
    "This notebook allows the downloading of climate data and automtic conversion into EPW files for any year (where available dataset exists on NSRDB) for almost every location in the Americas.\n",
    "\n",
    "### Conceptual steps\n",
    "\n",
    "+ Gather your query location as a [WKT geometry](https://libgeos.org/specifications/wkt/) (in WGS84 CRS, could be Point, Polygon, MultiPolygon, etc. but a minimum working example is a Point) and prepare it as a string\n",
    "+ Determine the dataset you would like to query, and the appropriate temporal resolutions and the years you neeed.\n",
    "+ Obtain an API key. You can [sign up for your API key](https://developer.nrel.gov/signup/).\n",
    "+ Translate the geometry into NSRDB point_ids (automated by the pipeline, no need to worry)\n",
    "+ Get the weather data about the associated point_ids and parse them into DataFrames and write them as CSVs (automated by the pipeline, no need to worry)\n",
    "+ Translate these DataFrames into EPW files and write them (automated by the pipeline, no need to worry)\n",
    "\n",
    "### Credits\n",
    "\n",
    "The dataset and a interactive web portal is available via [NSRDB Data Viewer](https://nsrdb.nrel.gov/data-viewer). This pipeline takes advantage of the sample query code provided here.\n",
    "\n",
    "Thanks to [Patrick's script](https://github.com/building-energy/epw/blob/master/epw/epw.py) we have a ready-made workflow for EPW file generation."
   ]
  },
  {
   "cell_type": "markdown",
   "id": "03dded51-39e5-46ae-86b1-d74e70f7fa49",
   "metadata": {},
   "source": [
    "## Steps"
   ]
  },
  {
   "cell_type": "markdown",
   "id": "350ad52c-f3a7-4558-be45-27b1819d0eb3",
   "metadata": {},
   "source": [
    "### 1. Prepare your WKT geometry\n",
    "\n",
    "Prepare your WKT geometry representing the area of investigation as a string. Further guidance available [here](https://libgeos.org/specifications/wkt/).\n",
    "\n",
    "A minimum working example is a Point, such as `POINT(-76.48408307172359 42.45094507085529)` is the location of Cornell AAP.\n",
    "\n",
    "### 2. Determine the right temporal resolution and coverage\n",
    "\n",
    "By referring to the table below, determine the right temporal resolution and coverage."
   ]
  },
  {
   "cell_type": "markdown",
   "id": "a642b8c8-8602-41ac-8e09-c0dca7bf8a4c",
   "metadata": {},
   "source": [
    "Datasets and their coverage:\n",
    "\n",
    "|Geographies|Name|Temporal Resolution|Geographical Resolution|Years (Inclusive)|\n",
    "|------|------|------|------|------|\n",
    "|USA Continental and Mexico|`nsrdb-GOES-conus`|5, 30, 60min|2km|2021-23|\n",
    "|USA and Americas|`nsrdb-GOES-full-disc`|10, 30, 60min|2km|2018-23|\n",
    "|USA and Americas|`nsrdb-GOES-aggregated`|30, 60min|4km|1998-23|\n",
    "|USA and Americas|`nsrdb-GOES-tmy`|60min| |2022-23|"
   ]
  },
  {
   "cell_type": "markdown",
   "id": "b370894f-b463-4c43-b31e-1df43c42a89d",
   "metadata": {},
   "source": [
    "### 3. Obtain an API key\n",
    "You are suggested to [sign up for your API key](https://developer.nrel.gov/signup/) before working with the script. For lab purposes you can use the key provided (it is my key actually so pay attention to the payload if you are doing batch downloads for larger regions)."
   ]
  },
  {
   "cell_type": "markdown",
   "id": "d9f50f40-2716-4935-86d8-2c559ff6be9f",
   "metadata": {},
   "source": [
    "### 4. Run the script with the inputs\n",
    "\n",
    "Provide the inputs for the script to run."
   ]
  },
  {
   "cell_type": "markdown",
   "id": "13e404a5-5e98-4927-b3ff-53e8bd691914",
   "metadata": {},
   "source": [
    "## API KEY\n",
    "\n",
    "You can [sign up for your API key](https://developer.nrel.gov/signup/) to use it this script."
   ]
  },
  {
   "cell_type": "code",
   "execution_count": null,
   "id": "906fb75d-8fda-4655-a108-18cca66d90f0",
   "metadata": {},
   "outputs": [],
   "source": [
    "API_KEY = '' # use your own key if possible\n",
    "#with open('archive/key.txt', mode='r', encoding='utf-8') as f:\n",
    "#    API_KEY = f.read().strip()\n",
    "assert API_KEY != ''"
   ]
  },
  {
   "cell_type": "markdown",
   "id": "52740701-1771-46f2-af42-ab08349bd4ef",
   "metadata": {},
   "source": [
    "## Inputs"
   ]
  },
  {
   "cell_type": "markdown",
   "id": "4057cec9-b407-4b8e-8b41-68109647a25a",
   "metadata": {},
   "source": [
    "### Non essential metadata - put in right information for clarity"
   ]
  },
  {
   "cell_type": "code",
   "execution_count": 15,
   "id": "28fc1ae4-c1af-46b3-a574-11dd31985f8d",
   "metadata": {},
   "outputs": [],
   "source": [
    "# Non critial metadata\n",
    "LOCATION = 'Ithaca' # just naming\n",
    "STATE = 'STATE' # just naming\n",
    "COUNTRY = 'United States' # just naming\n",
    "EMAIL = \"cl2749@cornell.edu\" # your email, does not really matter if you are downloading csv directly"
   ]
  },
  {
   "cell_type": "markdown",
   "id": "dbfac5dd-cf72-44eb-9bfa-4ddd9c351c5b",
   "metadata": {},
   "source": [
    "### Critical inputs - these will determine the result"
   ]
  },
  {
   "cell_type": "markdown",
   "id": "ed504ad7-3e83-400b-90a1-47154e0f19a0",
   "metadata": {},
   "source": [
    "+ `WKT` is the WKT (Well Known Text) representation of the location you are downloading the EPW files. Technically all WKT geometries are accepted, including points, polygons, and multipolygons. **But if you are not familiar with this concept, simply input the lat-long point of the city/town you are working on**. For example `POINT(-76.48408307172359 42.45094507085529)` (**no comma!**) is for the location of Cornell AAP.\n",
    "+ `DATASET` is the full name of the dataset you are downloading from. Choose one from the dictionary `dataset_names` above.\n",
    "+ `INTERVAL` is the temporal resolution. Pay attention to what data is available by referring to the table above. Note that this field is always a **string** type!\n",
    "+ `YEARS` is the list of years to download data. Pay attention to what data is available by referring to the table above. Note that this field is always a list of **string**s.\n",
    "+ `RESULTS_DIR` is the folder location to save the downloaded files. Include the dash symbols `/`. For example: `my_location/` is good."
   ]
  },
  {
   "cell_type": "markdown",
   "id": "b638a0a7",
   "metadata": {},
   "source": [
    "Let's take a look at the datasets available."
   ]
  },
  {
   "cell_type": "code",
   "execution_count": 16,
   "id": "150b66d7-e36e-419e-9c66-dec648398dac",
   "metadata": {},
   "outputs": [
    {
     "data": {
      "text/plain": [
       "{'CONUS': 'nsrdb-GOES-conus-v4-0-0',\n",
       " 'full-disc': 'nsrdb-GOES-full-disc-v4-0-0',\n",
       " 'TMY': 'nsrdb-GOES-tmy-v4-0-0',\n",
       " 'aggregated': 'nsrdb-GOES-aggregated-v4-0-0'}"
      ]
     },
     "execution_count": 16,
     "metadata": {},
     "output_type": "execute_result"
    }
   ],
   "source": [
    "from nsrdb2epw import get_dataset_names\n",
    "\n",
    "dataset_names = get_dataset_names()\n",
    "dataset_names"
   ]
  },
  {
   "cell_type": "code",
   "execution_count": 17,
   "id": "9dc38bb7-904f-458a-bd27-749cfe0d28de",
   "metadata": {},
   "outputs": [],
   "source": [
    "# Lat, Long representation of the location, as a minimum working example.\n",
    "# Example: 'POINT(-76.48408307172359 42.45094507085529)' is the location of Cornell AAP\n",
    "WKT = 'POINT(-74.25820375161103 42.684861252913805)'\n",
    "\n",
    "DATASET = dataset_names['full-disc'] # see dataset_names and table above. example: dataset_names['full-disc']\n",
    "INTERVAL = '60' # temporal resolution, example: '60'\n",
    "YEARS = ['2020', '2021', '2022', '2023'] # example: ['2020', '2021', '2022', '2023']\n",
    "RESULTS_DIR='results/' # example: 'results/'"
   ]
  },
  {
   "cell_type": "markdown",
   "id": "b4786ea6-0d20-4514-828e-121980ba43ad",
   "metadata": {},
   "source": [
    "## Run (new workflow)"
   ]
  },
  {
   "cell_type": "code",
   "execution_count": 18,
   "id": "4647b8f0-33ea-417e-adb1-f682b2520a59",
   "metadata": {},
   "outputs": [
    {
     "name": "stdout",
     "output_type": "stream",
     "text": [
      "Processing name: 2020\n",
      "Making request for point group 1 of 1...\n",
      "Response data (you should replace this print statement with your processing): (8762, 46)\n",
      "Processed\n",
      "Processing name: 2021\n",
      "Making request for point group 1 of 1...\n",
      "Response data (you should replace this print statement with your processing): (8762, 46)\n",
      "Processed\n",
      "Processing name: 2022\n",
      "Making request for point group 1 of 1...\n",
      "Response data (you should replace this print statement with your processing): (8762, 46)\n",
      "Processed\n",
      "Processing name: 2023\n",
      "Making request for point group 1 of 1...\n",
      "Response data (you should replace this print statement with your processing): (8762, 46)\n",
      "Processed\n",
      "Successfully written results/Ithaca_42.68_-74.25_2020.epw\n",
      "Successfully written results/Ithaca_42.68_-74.25_2021.epw\n",
      "Successfully written results/Ithaca_42.68_-74.25_2022.epw\n",
      "Successfully written results/Ithaca_42.68_-74.25_2023.epw\n"
     ]
    }
   ],
   "source": [
    "from nsrdb2epw import nsrdb2epw\n",
    "nsrdb2epw(\n",
    "    WKT,\n",
    "    DATASET,\n",
    "    INTERVAL,\n",
    "    YEARS,\n",
    "    API_KEY,\n",
    "    RESULTS_DIR=RESULTS_DIR,\n",
    "    LOCATION=LOCATION,\n",
    "    STATE=STATE,\n",
    "    COUNTRY=COUNTRY,\n",
    "    EMAIL=EMAIL\n",
    ")"
   ]
  },
  {
   "cell_type": "code",
   "execution_count": null,
   "id": "5fd445aa",
   "metadata": {},
   "outputs": [],
   "source": []
  }
 ],
 "metadata": {
  "kernelspec": {
   "display_name": "base",
   "language": "python",
   "name": "python3"
  },
  "language_info": {
   "codemirror_mode": {
    "name": "ipython",
    "version": 3
   },
   "file_extension": ".py",
   "mimetype": "text/x-python",
   "name": "python",
   "nbconvert_exporter": "python",
   "pygments_lexer": "ipython3",
   "version": "3.11.3"
  }
 },
 "nbformat": 4,
 "nbformat_minor": 5
}
